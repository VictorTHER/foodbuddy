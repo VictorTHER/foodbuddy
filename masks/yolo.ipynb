{
 "cells": [
  {
   "cell_type": "markdown",
   "metadata": {},
   "source": [
    "# Yolo Model\n",
    "\n",
    "### Imports "
   ]
  },
  {
   "cell_type": "code",
   "execution_count": 1,
   "metadata": {},
   "outputs": [
    {
     "name": "stdout",
     "output_type": "stream",
     "text": [
      "Collecting ultralytics\n",
      "  Downloading ultralytics-8.3.38-py3-none-any.whl (896 kB)\n",
      "\u001b[2K     \u001b[90m━━━━━━━━━━━━━━━━━━━━━━━━━━━━━━━━━━━━━━━\u001b[0m \u001b[32m896.3/896.3 kB\u001b[0m \u001b[31m2.5 MB/s\u001b[0m eta \u001b[36m0:00:00\u001b[0ma \u001b[36m0:00:01\u001b[0m\n",
      "\u001b[?25hRequirement already satisfied: opencv-python>=4.6.0 in /home/sdelannoy/.pyenv/versions/3.10.6/envs/foodbuddys/lib/python3.10/site-packages (from ultralytics) (4.10.0.84)\n",
      "Requirement already satisfied: matplotlib>=3.3.0 in /home/sdelannoy/.pyenv/versions/3.10.6/envs/foodbuddys/lib/python3.10/site-packages (from ultralytics) (3.9.2)\n",
      "Requirement already satisfied: scipy>=1.4.1 in /home/sdelannoy/.pyenv/versions/3.10.6/envs/foodbuddys/lib/python3.10/site-packages (from ultralytics) (1.14.1)\n",
      "Requirement already satisfied: psutil in /home/sdelannoy/.pyenv/versions/3.10.6/envs/foodbuddys/lib/python3.10/site-packages (from ultralytics) (6.1.0)\n",
      "Requirement already satisfied: torchvision>=0.9.0 in /home/sdelannoy/.pyenv/versions/3.10.6/envs/foodbuddys/lib/python3.10/site-packages (from ultralytics) (0.20.1)\n",
      "Collecting py-cpuinfo\n",
      "  Downloading py_cpuinfo-9.0.0-py3-none-any.whl (22 kB)\n",
      "Requirement already satisfied: torch>=1.8.0 in /home/sdelannoy/.pyenv/versions/3.10.6/envs/foodbuddys/lib/python3.10/site-packages (from ultralytics) (2.5.1)\n",
      "Requirement already satisfied: pandas>=1.1.4 in /home/sdelannoy/.pyenv/versions/3.10.6/envs/foodbuddys/lib/python3.10/site-packages (from ultralytics) (2.2.3)\n",
      "Requirement already satisfied: tqdm>=4.64.0 in /home/sdelannoy/.pyenv/versions/3.10.6/envs/foodbuddys/lib/python3.10/site-packages (from ultralytics) (4.67.1)\n",
      "Requirement already satisfied: pyyaml>=5.3.1 in /home/sdelannoy/.pyenv/versions/3.10.6/envs/foodbuddys/lib/python3.10/site-packages (from ultralytics) (6.0.2)\n",
      "Requirement already satisfied: requests>=2.23.0 in /home/sdelannoy/.pyenv/versions/3.10.6/envs/foodbuddys/lib/python3.10/site-packages (from ultralytics) (2.32.3)\n",
      "Requirement already satisfied: seaborn>=0.11.0 in /home/sdelannoy/.pyenv/versions/3.10.6/envs/foodbuddys/lib/python3.10/site-packages (from ultralytics) (0.13.2)\n",
      "Collecting ultralytics-thop>=2.0.0\n",
      "  Downloading ultralytics_thop-2.0.12-py3-none-any.whl (26 kB)\n",
      "Requirement already satisfied: numpy>=1.23.0 in /home/sdelannoy/.pyenv/versions/3.10.6/envs/foodbuddys/lib/python3.10/site-packages (from ultralytics) (2.1.3)\n",
      "Requirement already satisfied: pillow>=7.1.2 in /home/sdelannoy/.pyenv/versions/3.10.6/envs/foodbuddys/lib/python3.10/site-packages (from ultralytics) (11.0.0)\n",
      "Requirement already satisfied: python-dateutil>=2.7 in /home/sdelannoy/.pyenv/versions/3.10.6/envs/foodbuddys/lib/python3.10/site-packages (from matplotlib>=3.3.0->ultralytics) (2.9.0.post0)\n",
      "Requirement already satisfied: contourpy>=1.0.1 in /home/sdelannoy/.pyenv/versions/3.10.6/envs/foodbuddys/lib/python3.10/site-packages (from matplotlib>=3.3.0->ultralytics) (1.3.1)\n",
      "Requirement already satisfied: fonttools>=4.22.0 in /home/sdelannoy/.pyenv/versions/3.10.6/envs/foodbuddys/lib/python3.10/site-packages (from matplotlib>=3.3.0->ultralytics) (4.55.0)\n",
      "Requirement already satisfied: packaging>=20.0 in /home/sdelannoy/.pyenv/versions/3.10.6/envs/foodbuddys/lib/python3.10/site-packages (from matplotlib>=3.3.0->ultralytics) (24.2)\n",
      "Requirement already satisfied: cycler>=0.10 in /home/sdelannoy/.pyenv/versions/3.10.6/envs/foodbuddys/lib/python3.10/site-packages (from matplotlib>=3.3.0->ultralytics) (0.12.1)\n",
      "Requirement already satisfied: pyparsing>=2.3.1 in /home/sdelannoy/.pyenv/versions/3.10.6/envs/foodbuddys/lib/python3.10/site-packages (from matplotlib>=3.3.0->ultralytics) (3.2.0)\n",
      "Requirement already satisfied: kiwisolver>=1.3.1 in /home/sdelannoy/.pyenv/versions/3.10.6/envs/foodbuddys/lib/python3.10/site-packages (from matplotlib>=3.3.0->ultralytics) (1.4.7)\n",
      "Requirement already satisfied: pytz>=2020.1 in /home/sdelannoy/.pyenv/versions/3.10.6/envs/foodbuddys/lib/python3.10/site-packages (from pandas>=1.1.4->ultralytics) (2024.2)\n",
      "Requirement already satisfied: tzdata>=2022.7 in /home/sdelannoy/.pyenv/versions/3.10.6/envs/foodbuddys/lib/python3.10/site-packages (from pandas>=1.1.4->ultralytics) (2024.2)\n",
      "Requirement already satisfied: idna<4,>=2.5 in /home/sdelannoy/.pyenv/versions/3.10.6/envs/foodbuddys/lib/python3.10/site-packages (from requests>=2.23.0->ultralytics) (3.10)\n",
      "Requirement already satisfied: certifi>=2017.4.17 in /home/sdelannoy/.pyenv/versions/3.10.6/envs/foodbuddys/lib/python3.10/site-packages (from requests>=2.23.0->ultralytics) (2024.8.30)\n",
      "Requirement already satisfied: urllib3<3,>=1.21.1 in /home/sdelannoy/.pyenv/versions/3.10.6/envs/foodbuddys/lib/python3.10/site-packages (from requests>=2.23.0->ultralytics) (2.2.3)\n",
      "Requirement already satisfied: charset-normalizer<4,>=2 in /home/sdelannoy/.pyenv/versions/3.10.6/envs/foodbuddys/lib/python3.10/site-packages (from requests>=2.23.0->ultralytics) (3.4.0)\n",
      "Requirement already satisfied: nvidia-cudnn-cu12==9.1.0.70 in /home/sdelannoy/.pyenv/versions/3.10.6/envs/foodbuddys/lib/python3.10/site-packages (from torch>=1.8.0->ultralytics) (9.1.0.70)\n",
      "Requirement already satisfied: nvidia-cublas-cu12==12.4.5.8 in /home/sdelannoy/.pyenv/versions/3.10.6/envs/foodbuddys/lib/python3.10/site-packages (from torch>=1.8.0->ultralytics) (12.4.5.8)\n",
      "Requirement already satisfied: typing-extensions>=4.8.0 in /home/sdelannoy/.pyenv/versions/3.10.6/envs/foodbuddys/lib/python3.10/site-packages (from torch>=1.8.0->ultralytics) (4.12.2)\n",
      "Requirement already satisfied: networkx in /home/sdelannoy/.pyenv/versions/3.10.6/envs/foodbuddys/lib/python3.10/site-packages (from torch>=1.8.0->ultralytics) (3.4.2)\n",
      "Requirement already satisfied: nvidia-nccl-cu12==2.21.5 in /home/sdelannoy/.pyenv/versions/3.10.6/envs/foodbuddys/lib/python3.10/site-packages (from torch>=1.8.0->ultralytics) (2.21.5)\n",
      "Requirement already satisfied: jinja2 in /home/sdelannoy/.pyenv/versions/3.10.6/envs/foodbuddys/lib/python3.10/site-packages (from torch>=1.8.0->ultralytics) (3.1.4)\n",
      "Requirement already satisfied: nvidia-cuda-cupti-cu12==12.4.127 in /home/sdelannoy/.pyenv/versions/3.10.6/envs/foodbuddys/lib/python3.10/site-packages (from torch>=1.8.0->ultralytics) (12.4.127)\n",
      "Requirement already satisfied: nvidia-cusolver-cu12==11.6.1.9 in /home/sdelannoy/.pyenv/versions/3.10.6/envs/foodbuddys/lib/python3.10/site-packages (from torch>=1.8.0->ultralytics) (11.6.1.9)\n",
      "Requirement already satisfied: nvidia-cuda-nvrtc-cu12==12.4.127 in /home/sdelannoy/.pyenv/versions/3.10.6/envs/foodbuddys/lib/python3.10/site-packages (from torch>=1.8.0->ultralytics) (12.4.127)\n",
      "Requirement already satisfied: fsspec in /home/sdelannoy/.pyenv/versions/3.10.6/envs/foodbuddys/lib/python3.10/site-packages (from torch>=1.8.0->ultralytics) (2024.10.0)\n",
      "Requirement already satisfied: filelock in /home/sdelannoy/.pyenv/versions/3.10.6/envs/foodbuddys/lib/python3.10/site-packages (from torch>=1.8.0->ultralytics) (3.16.1)\n",
      "Requirement already satisfied: nvidia-cuda-runtime-cu12==12.4.127 in /home/sdelannoy/.pyenv/versions/3.10.6/envs/foodbuddys/lib/python3.10/site-packages (from torch>=1.8.0->ultralytics) (12.4.127)\n",
      "Requirement already satisfied: nvidia-cufft-cu12==11.2.1.3 in /home/sdelannoy/.pyenv/versions/3.10.6/envs/foodbuddys/lib/python3.10/site-packages (from torch>=1.8.0->ultralytics) (11.2.1.3)\n",
      "Requirement already satisfied: nvidia-curand-cu12==10.3.5.147 in /home/sdelannoy/.pyenv/versions/3.10.6/envs/foodbuddys/lib/python3.10/site-packages (from torch>=1.8.0->ultralytics) (10.3.5.147)\n",
      "Requirement already satisfied: sympy==1.13.1 in /home/sdelannoy/.pyenv/versions/3.10.6/envs/foodbuddys/lib/python3.10/site-packages (from torch>=1.8.0->ultralytics) (1.13.1)\n",
      "Requirement already satisfied: nvidia-nvtx-cu12==12.4.127 in /home/sdelannoy/.pyenv/versions/3.10.6/envs/foodbuddys/lib/python3.10/site-packages (from torch>=1.8.0->ultralytics) (12.4.127)\n",
      "Requirement already satisfied: nvidia-nvjitlink-cu12==12.4.127 in /home/sdelannoy/.pyenv/versions/3.10.6/envs/foodbuddys/lib/python3.10/site-packages (from torch>=1.8.0->ultralytics) (12.4.127)\n",
      "Requirement already satisfied: triton==3.1.0 in /home/sdelannoy/.pyenv/versions/3.10.6/envs/foodbuddys/lib/python3.10/site-packages (from torch>=1.8.0->ultralytics) (3.1.0)\n",
      "Requirement already satisfied: nvidia-cusparse-cu12==12.3.1.170 in /home/sdelannoy/.pyenv/versions/3.10.6/envs/foodbuddys/lib/python3.10/site-packages (from torch>=1.8.0->ultralytics) (12.3.1.170)\n",
      "Requirement already satisfied: mpmath<1.4,>=1.1.0 in /home/sdelannoy/.pyenv/versions/3.10.6/envs/foodbuddys/lib/python3.10/site-packages (from sympy==1.13.1->torch>=1.8.0->ultralytics) (1.3.0)\n",
      "Requirement already satisfied: six>=1.5 in /home/sdelannoy/.pyenv/versions/3.10.6/envs/foodbuddys/lib/python3.10/site-packages (from python-dateutil>=2.7->matplotlib>=3.3.0->ultralytics) (1.16.0)\n",
      "Requirement already satisfied: MarkupSafe>=2.0 in /home/sdelannoy/.pyenv/versions/3.10.6/envs/foodbuddys/lib/python3.10/site-packages (from jinja2->torch>=1.8.0->ultralytics) (3.0.2)\n",
      "Installing collected packages: py-cpuinfo, ultralytics-thop, ultralytics\n",
      "Successfully installed py-cpuinfo-9.0.0 ultralytics-8.3.38 ultralytics-thop-2.0.12\n",
      "\n",
      "\u001b[1m[\u001b[0m\u001b[34;49mnotice\u001b[0m\u001b[1;39;49m]\u001b[0m\u001b[39;49m A new release of pip available: \u001b[0m\u001b[31;49m22.2.1\u001b[0m\u001b[39;49m -> \u001b[0m\u001b[32;49m24.3.1\u001b[0m\n",
      "\u001b[1m[\u001b[0m\u001b[34;49mnotice\u001b[0m\u001b[1;39;49m]\u001b[0m\u001b[39;49m To update, run: \u001b[0m\u001b[32;49mpip install --upgrade pip\u001b[0m\n"
     ]
    }
   ],
   "source": [
    "! pip install ultralytics"
   ]
  },
  {
   "cell_type": "code",
   "execution_count": 2,
   "metadata": {},
   "outputs": [
    {
     "name": "stdout",
     "output_type": "stream",
     "text": [
      "Traceback (most recent call last):\n",
      "  File \"/home/sdelannoy/.pyenv/versions/3.10.6/envs/foodbuddys/bin/yolo\", line 8, in <module>\n",
      "    sys.exit(entrypoint())\n",
      "  File \"/home/sdelannoy/.pyenv/versions/3.10.6/envs/foodbuddys/lib/python3.10/site-packages/ultralytics/cfg/__init__.py\", line 909, in entrypoint\n",
      "    raise ValueError(f\"Invalid 'mode={mode}'. Valid modes are {MODES}.\\n{CLI_HELP_MSG}\")\n",
      "ValueError: Invalid 'mode=<module 'ultralytics.utils.checks' from '/home/sdelannoy/.pyenv/versions/3.10.6/envs/foodbuddys/lib/python3.10/site-packages/ultralytics/utils/checks.py'>'. Valid modes are {'val', 'benchmark', 'train', 'track', 'predict', 'export'}.\n",
      "\n",
      "    Arguments received: ['yolo', 'mode=checks']. Ultralytics 'yolo' commands use the following syntax:\n",
      "\n",
      "        yolo TASK MODE ARGS\n",
      "\n",
      "        Where   TASK (optional) is one of {'segment', 'obb', 'detect', 'classify', 'pose'}\n",
      "                MODE (required) is one of {'val', 'benchmark', 'train', 'track', 'predict', 'export'}\n",
      "                ARGS (optional) are any number of custom 'arg=value' pairs like 'imgsz=320' that override defaults.\n",
      "                    See all ARGS at https://docs.ultralytics.com/usage/cfg or with 'yolo cfg'\n",
      "\n",
      "    1. Train a detection model for 10 epochs with an initial learning_rate of 0.01\n",
      "        yolo train data=coco8.yaml model=yolo11n.pt epochs=10 lr0=0.01\n",
      "\n",
      "    2. Predict a YouTube video using a pretrained segmentation model at image size 320:\n",
      "        yolo predict model=yolo11n-seg.pt source='https://youtu.be/LNwODJXcvt4' imgsz=320\n",
      "\n",
      "    3. Val a pretrained detection model at batch-size 1 and image size 640:\n",
      "        yolo val model=yolo11n.pt data=coco8.yaml batch=1 imgsz=640\n",
      "\n",
      "    4. Export a YOLO11n classification model to ONNX format at image size 224 by 128 (no TASK required)\n",
      "        yolo export model=yolo11n-cls.pt format=onnx imgsz=224,128\n",
      "\n",
      "    5. Streamlit real-time webcam inference GUI\n",
      "        yolo streamlit-predict\n",
      "\n",
      "    6. Ultralytics solutions usage\n",
      "        yolo solutions count or in ['count', 'heatmap', 'queue', 'speed', 'workout', 'analytics', 'help'] source=\"path/to/video/file.mp4\"\n",
      "\n",
      "    7. Run special commands:\n",
      "        yolo help\n",
      "        yolo checks\n",
      "        yolo version\n",
      "        yolo settings\n",
      "        yolo copy-cfg\n",
      "        yolo cfg\n",
      "        yolo solutions help\n",
      "\n",
      "    Docs: https://docs.ultralytics.com\n",
      "    Solutions: https://docs.ultralytics.com/solutions/\n",
      "    Community: https://community.ultralytics.com\n",
      "    GitHub: https://github.com/ultralytics/ultralytics\n",
      "    \n"
     ]
    }
   ],
   "source": [
    "from ultralytics import YOLO\n",
    "import os\n",
    "from IPython.display import display, Image\n",
    "from IPython import display\n",
    "display.clear_output()\n",
    "! yolo mode=checks"
   ]
  },
  {
   "cell_type": "markdown",
   "metadata": {},
   "source": [
    "### Dataset Pre Processing"
   ]
  },
  {
   "cell_type": "code",
   "execution_count": 3,
   "metadata": {},
   "outputs": [
    {
     "name": "stdout",
     "output_type": "stream",
     "text": [
      "Dataset filtré avec 31166 images, dont :\n",
      "- 23134 avec 1 annotation\n",
      "- 7882 avec 2 annotations\n",
      "- 100 avec 3 annotations\n",
      "- 50 avec 4 annotations\n"
     ]
    }
   ],
   "source": [
    "import json\n",
    "from collections import defaultdict\n",
    "import random\n",
    "\n",
    "# Charger le fichier JSON\n",
    "with open(\"../raw_data/public_training_set_release_2.0/annotations.json\", \"r\") as f:\n",
    "    data = json.load(f)\n",
    "\n",
    "# Compter le nombre d'annotations par image\n",
    "image_annotation_count = defaultdict(int)\n",
    "for annotation in data[\"annotations\"]:\n",
    "    image_annotation_count[annotation[\"image_id\"]] += 1\n",
    "\n",
    "# Filtrer les images avec 1 ou 2 annotations\n",
    "filtered_image_ids = {image_id for image_id, count in image_annotation_count.items() if count in [1, 2]}\n",
    "\n",
    "# Ajouter 20 images avec 3 annotations\n",
    "three_annotation_images = [image_id for image_id, count in image_annotation_count.items() if count == 3]\n",
    "filtered_image_ids.update(random.sample(three_annotation_images, min(100, len(three_annotation_images))))\n",
    "\n",
    "# Ajouter 20 images avec 4 annotations\n",
    "four_annotation_images = [image_id for image_id, count in image_annotation_count.items() if count == 4]\n",
    "filtered_image_ids.update(random.sample(four_annotation_images, min(50, len(four_annotation_images))))\n",
    "\n",
    "# Créer les nouvelles sections filtrées\n",
    "filtered_images = [img for img in data[\"images\"] if img[\"id\"] in filtered_image_ids]\n",
    "filtered_annotations = [anno for anno in data[\"annotations\"] if anno[\"image_id\"] in filtered_image_ids]\n",
    "\n",
    "# Conserver uniquement les catégories utilisées\n",
    "used_category_ids = {anno[\"category_id\"] for anno in filtered_annotations}\n",
    "filtered_categories = [cat for cat in data[\"categories\"] if cat[\"id\"] in used_category_ids]\n",
    "\n",
    "# Construire le nouveau dataset\n",
    "filtered_data = {\n",
    "    \"images\": filtered_images,\n",
    "    \"annotations\": filtered_annotations,\n",
    "    \"categories\": filtered_categories,\n",
    "    \"info\": data.get(\"info\", {}),\n",
    "    \"licenses\": data.get(\"licenses\", [])\n",
    "}\n",
    "\n",
    "# Sauvegarder le nouveau fichier JSON\n",
    "with open(\"../raw_data/public_training_set_release_2.0/filtered_annotations.json\", \"w\") as f:\n",
    "    json.dump(filtered_data, f)\n",
    "\n",
    "print(f\"Dataset filtré avec {len(filtered_images)} images, dont :\")\n",
    "print(f\"- {len([img for img in filtered_images if image_annotation_count[img['id']] == 1])} avec 1 annotation\")\n",
    "print(f\"- {len([img for img in filtered_images if image_annotation_count[img['id']] == 2])} avec 2 annotations\")\n",
    "print(f\"- 100 avec 3 annotations\")\n",
    "print(f\"- 50 avec 4 annotations\")"
   ]
  },
  {
   "cell_type": "code",
   "execution_count": 4,
   "metadata": {},
   "outputs": [
    {
     "name": "stdout",
     "output_type": "stream",
     "text": [
      "Images filtrées copiées dans : ../raw_data/public_training_set_release_2.0/images_filtered/\n"
     ]
    }
   ],
   "source": [
    "import os\n",
    "import shutil\n",
    "import json\n",
    "\n",
    "# Chemins des dossiers et fichiers\n",
    "annotations_path = \"../raw_data/public_training_set_release_2.0/filtered_annotations.json\"\n",
    "images_path = \"../raw_data/public_training_set_release_2.0/images/\"  \n",
    "output_path = \"../raw_data/public_training_set_release_2.0/images_filtered/\"\n",
    "\n",
    "# Créer le dossier de sortie s'il n'existe pas\n",
    "os.makedirs(output_path, exist_ok=True)\n",
    "\n",
    "# Charger le fichier JSON\n",
    "with open(annotations_path, \"r\") as f:\n",
    "    annotations = json.load(f)\n",
    "\n",
    "# Extraire les noms des fichiers nécessaires\n",
    "filtered_files = {img[\"file_name\"] for img in annotations[\"images\"]}\n",
    "\n",
    "# Parcourir le dossier images et copier uniquement les fichiers nécessaires\n",
    "for file_name in os.listdir(images_path):\n",
    "    if file_name in filtered_files:\n",
    "        src = os.path.join(images_path, file_name)\n",
    "        dest = os.path.join(output_path, file_name)\n",
    "        shutil.copy(src, dest)\n",
    "\n",
    "print(f\"Images filtrées copiées dans : {output_path}\")"
   ]
  }
 ],
 "metadata": {
  "kernelspec": {
   "display_name": "foodbuddys",
   "language": "python",
   "name": "python3"
  },
  "language_info": {
   "codemirror_mode": {
    "name": "ipython",
    "version": 3
   },
   "file_extension": ".py",
   "mimetype": "text/x-python",
   "name": "python",
   "nbconvert_exporter": "python",
   "pygments_lexer": "ipython3",
   "version": "3.10.6"
  }
 },
 "nbformat": 4,
 "nbformat_minor": 2
}
