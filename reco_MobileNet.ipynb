{
 "cells": [
  {
   "cell_type": "code",
   "execution_count": 2,
   "metadata": {},
   "outputs": [
    {
     "name": "stderr",
     "output_type": "stream",
     "text": [
      "2024-11-28 17:51:32.136681: I tensorflow/core/util/port.cc:153] oneDNN custom operations are on. You may see slightly different numerical results due to floating-point round-off errors from different computation orders. To turn them off, set the environment variable `TF_ENABLE_ONEDNN_OPTS=0`.\n",
      "2024-11-28 17:51:32.149564: I external/local_xla/xla/tsl/cuda/cudart_stub.cc:32] Could not find cuda drivers on your machine, GPU will not be used.\n",
      "2024-11-28 17:51:32.220196: I external/local_xla/xla/tsl/cuda/cudart_stub.cc:32] Could not find cuda drivers on your machine, GPU will not be used.\n",
      "2024-11-28 17:51:32.305025: E external/local_xla/xla/stream_executor/cuda/cuda_fft.cc:477] Unable to register cuFFT factory: Attempting to register factory for plugin cuFFT when one has already been registered\n",
      "WARNING: All log messages before absl::InitializeLog() is called are written to STDERR\n",
      "E0000 00:00:1732812692.361674   89897 cuda_dnn.cc:8310] Unable to register cuDNN factory: Attempting to register factory for plugin cuDNN when one has already been registered\n",
      "E0000 00:00:1732812692.378638   89897 cuda_blas.cc:1418] Unable to register cuBLAS factory: Attempting to register factory for plugin cuBLAS when one has already been registered\n",
      "2024-11-28 17:51:32.572484: I tensorflow/core/platform/cpu_feature_guard.cc:210] This TensorFlow binary is optimized to use available CPU instructions in performance-critical operations.\n",
      "To enable the following instructions: AVX2 AVX_VNNI FMA, in other operations, rebuild TensorFlow with the appropriate compiler flags.\n"
     ]
    }
   ],
   "source": [
    "# 1. Importer les librairies nécessaires\n",
    "import tensorflow as tf\n",
    "from tensorflow.keras.preprocessing.image import ImageDataGenerator\n",
    "import os\n",
    "import pandas as pd\n",
    "from google.cloud import storage\n",
    "\n",
    "import requests\n",
    "from PIL import Image\n",
    "import numpy as np\n",
    "from io import BytesIO\n",
    "\n",
    "import cv2\n",
    "import numpy as np\n",
    "import requests\n",
    "from io import BytesIO"
   ]
  },
  {
   "cell_type": "code",
   "execution_count": 3,
   "metadata": {},
   "outputs": [
    {
     "name": "stdout",
     "output_type": "stream",
     "text": [
      "        file_name                    name               name_readable\n",
      "39     131216.jpg              tomato-raw                Tomato, raw \n",
      "48     131268.jpg                  butter                      Butter\n",
      "55     131364.jpg  salad-leaf-salad-green  Salad, leaf / salad, green\n",
      "64     131419.jpg             bread-white                Bread, white\n",
      "67     131482.jpg              tomato-raw                Tomato, raw \n",
      "...           ...                     ...                         ...\n",
      "70350  130858.jpg              tomato-raw                Tomato, raw \n",
      "70361  130896.jpg                  butter                      Butter\n",
      "70367  130952.jpg  salad-leaf-salad-green  Salad, leaf / salad, green\n",
      "70386  131015.jpg                   water                       Water\n",
      "70395  131071.jpg                  butter                      Butter\n",
      "\n",
      "[10287 rows x 3 columns]\n"
     ]
    }
   ],
   "source": [
    "# On appelle le dataframe où les noms des fichiers sont stockés\n",
    "df = pd.read_csv('data_train_set.csv')\n",
    "df\n",
    "\n",
    "# Filtrer les noms avec plus de 500 occurrences de file_name\n",
    "name_counts = df['name'].value_counts()\n",
    "names_with_more_than_500 = name_counts[name_counts > 1600].index\n",
    "\n",
    "# Sélectionner les occurrences correspondantes\n",
    "filtered_df = df[df['name'].isin(names_with_more_than_500)]\n",
    "\n",
    "# Afficher ou sauvegarder le DataFrame filtré\n",
    "print(filtered_df)"
   ]
  },
  {
   "cell_type": "code",
   "execution_count": 5,
   "metadata": {},
   "outputs": [
    {
     "name": "stderr",
     "output_type": "stream",
     "text": [
      "/tmp/ipykernel_89897/3532618580.py:3: SettingWithCopyWarning: \n",
      "A value is trying to be set on a copy of a slice from a DataFrame.\n",
      "Try using .loc[row_indexer,col_indexer] = value instead\n",
      "\n",
      "See the caveats in the documentation: https://pandas.pydata.org/pandas-docs/stable/user_guide/indexing.html#returning-a-view-versus-a-copy\n",
      "  filtered_df['local_path'] = filtered_df['file_name'].apply(lambda x: os.path.join(LOCAL_DIRECTORY, x))\n"
     ]
    }
   ],
   "source": [
    "# Associer les chemins des images téléchargées à leurs tags avec un local path\n",
    "LOCAL_DIRECTORY = \"images_sample/\"\n",
    "filtered_df['local_path'] = filtered_df['file_name'].apply(lambda x: os.path.join(LOCAL_DIRECTORY, x))\n",
    "df_final = filtered_df"
   ]
  },
  {
   "cell_type": "code",
   "execution_count": null,
   "metadata": {},
   "outputs": [],
   "source": [
    "# Transformation en dictionnaire\n",
    "image_to_name = df_final.set_index('local_path')['name'].to_dict()\n",
    "\n",
    "# Exemple d'accès à un tag pour une image\n",
    "for path, name in image_to_name.items():\n",
    "    print(f\"Image: {path}, Name: {name}\")"
   ]
  },
  {
   "cell_type": "code",
   "execution_count": null,
   "metadata": {},
   "outputs": [],
   "source": []
  },
  {
   "cell_type": "code",
   "execution_count": null,
   "metadata": {},
   "outputs": [],
   "source": [
    "# Définir le X\n",
    "\n",
    "import os\n",
    "import numpy as np\n",
    "from PIL import Image\n",
    "\n",
    "# Dimensions souhaitées pour les images\n",
    "image_size = (128, 128)\n",
    "\n",
    "# Liste pour stocker les images\n",
    "images_array = []\n",
    "\n",
    "# Charger et redimensionner les images\n",
    "for file_name in os.listdir(LOCAL_DIRECTORY):\n",
    "    if file_name.endswith('.jpg'):\n",
    "        file_path = os.path.join(LOCAL_DIRECTORY, file_name)\n",
    "        try:\n",
    "            # Ouvrir l'image, redimensionner et convertir en tableau numpy\n",
    "            img = Image.open(file_path).convert(\"RGB\")\n",
    "            img = img.resize(image_size)\n",
    "            img_array = np.array(img)\n",
    "            images_array.append(img_array)\n",
    "        except Exception as e:\n",
    "            print(f\"Erreur avec l'image {file_name}: {e}\")\n",
    "\n",
    "# Convertir la liste en un tableau numpy\n",
    "X = np.array(images_array, dtype=\"float32\") / 255.0  # Normalisation entre 0 et 1\n",
    "\n",
    "print(f\"Tableau des images chargé : {X.shape}\")"
   ]
  },
  {
   "cell_type": "code",
   "execution_count": null,
   "metadata": {},
   "outputs": [],
   "source": [
    "# needed to install object_detection library and enlarge labels\n",
    "! rm -rf ./models && git clone https://github.com/tensorflow/models.git \\\n",
    "    && sed -i \"s#ImageFont.truetype('arial.ttf', 24)#ImageFont.truetype('arial.ttf', 50)#g\" ./models/research/object_detection/utils/visualization_utils.py \\\n",
    "    && cp /usr/share/fonts/truetype/dejavu/DejaVuSans.ttf /usr/share/fonts/truetype/dejavu/arial.ttf"
   ]
  },
  {
   "cell_type": "code",
   "execution_count": null,
   "metadata": {},
   "outputs": [],
   "source": [
    "# install object_detection library\n",
    "! cd models/research \\\n",
    "    && protoc object_detection/protos/*.proto --python_out=. \\\n",
    "    && cp object_detection/packages/tf2/setup.py . && \\\n",
    "    python3 -m pip install --use-feature=2020-resolver ."
   ]
  },
  {
   "cell_type": "code",
   "execution_count": null,
   "metadata": {},
   "outputs": [],
   "source": [
    "from object_detection.utils import visualization_utils as vis_util\n",
    "from object_detection.utils import dataset_util, label_map_util\n",
    "from object_detection.protos import string_int_label_map_pb2"
   ]
  },
  {
   "cell_type": "code",
   "execution_count": null,
   "metadata": {},
   "outputs": [],
   "source": [
    "# reconstruct frozen graph\n",
    "def reconstruct(pb_path):\n",
    "    if not os.path.isfile(pb_path):\n",
    "        print(\"Error: %s not found\" % pb_path)\n",
    "\n",
    "    print(\"Reconstructing Tensorflow model\")\n",
    "    detection_graph = tf.Graph()\n",
    "    with detection_graph.as_default():\n",
    "        od_graph_def = tf.compat.v1.GraphDef()\n",
    "        with tf.io.gfile.GFile(pb_path, 'rb') as fid:\n",
    "            serialized_graph = fid.read()\n",
    "            od_graph_def.ParseFromString(serialized_graph)\n",
    "            tf.import_graph_def(od_graph_def, name='')\n",
    "    print(\"Success!\")\n",
    "    return detection_graph"
   ]
  },
  {
   "cell_type": "code",
   "execution_count": null,
   "metadata": {},
   "outputs": [],
   "source": [
    "# visualize detection\n",
    "def image2np(image):\n",
    "    (w, h) = image.size\n",
    "    return np.array(image.getdata()).reshape((h, w, 3)).astype(np.uint8)\n",
    "\n",
    "def image2tensor(image):\n",
    "    npim = image2np(image)\n",
    "    return np.expand_dims(npim, axis=0)\n",
    "\n",
    "%matplotlib inline\n",
    "def detect(detection_graph, test_image_path):\n",
    "    with detection_graph.as_default():\n",
    "        gpu_options = tf.compat.v1.GPUOptions(per_process_gpu_memory_fraction=0.01)\n",
    "        with tf.compat.v1.Session(graph=detection_graph,config=tf.compat.v1.ConfigProto(gpu_options=gpu_options)) as sess:\n",
    "            image_tensor = detection_graph.get_tensor_by_name('image_tensor:0')\n",
    "            detection_boxes = detection_graph.get_tensor_by_name('detection_boxes:0')\n",
    "            detection_scores = detection_graph.get_tensor_by_name('detection_scores:0')\n",
    "            detection_classes = detection_graph.get_tensor_by_name('detection_classes:0')\n",
    "            num_detections = detection_graph.get_tensor_by_name('num_detections:0')\n",
    "\n",
    "            image = Image.open(test_image_path)\n",
    "            (boxes, scores, classes, num) = sess.run(\n",
    "                [detection_boxes, detection_scores, detection_classes, num_detections],\n",
    "                feed_dict={image_tensor: image2tensor(image)}\n",
    "            )\n",
    "\n",
    "            npim = image2np(image)\n",
    "            vis_util.visualize_boxes_and_labels_on_image_array(\n",
    "                npim,\n",
    "                np.squeeze(boxes),\n",
    "                np.squeeze(classes).astype(np.int32),\n",
    "                np.squeeze(scores),\n",
    "                category_index,\n",
    "                use_normalized_coordinates=True,\n",
    "                line_thickness=15)\n",
    "            plt.figure(figsize=(12, 8))\n",
    "            plt.imshow(npim)\n",
    "            plt.show()"
   ]
  },
  {
   "cell_type": "code",
   "execution_count": null,
   "metadata": {},
   "outputs": [],
   "source": []
  },
  {
   "cell_type": "code",
   "execution_count": null,
   "metadata": {},
   "outputs": [],
   "source": []
  }
 ],
 "metadata": {
  "kernelspec": {
   "display_name": "foodbuddy",
   "language": "python",
   "name": "python3"
  },
  "language_info": {
   "codemirror_mode": {
    "name": "ipython",
    "version": 3
   },
   "file_extension": ".py",
   "mimetype": "text/x-python",
   "name": "python",
   "nbconvert_exporter": "python",
   "pygments_lexer": "ipython3",
   "version": "3.10.6"
  }
 },
 "nbformat": 4,
 "nbformat_minor": 2
}
