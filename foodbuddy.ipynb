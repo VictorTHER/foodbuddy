{
 "cells": [
  {
   "cell_type": "markdown",
   "metadata": {},
   "source": [
    "Try to access data "
   ]
  },
  {
   "cell_type": "code",
   "execution_count": 2,
   "metadata": {},
   "outputs": [
    {
     "name": "stdout",
     "output_type": "stream",
     "text": [
      "Requirement already satisfied: hub in /home/sdelannoy/.pyenv/versions/3.10.6/envs/foodbuddys/lib/python3.10/site-packages (3.0.1)\n",
      "Requirement already satisfied: deeplake in /home/sdelannoy/.pyenv/versions/3.10.6/envs/foodbuddys/lib/python3.10/site-packages (from hub) (4.0.3)\n",
      "Requirement already satisfied: numpy in /home/sdelannoy/.pyenv/versions/3.10.6/envs/foodbuddys/lib/python3.10/site-packages (from deeplake->hub) (2.1.3)\n",
      "\n",
      "\u001b[1m[\u001b[0m\u001b[34;49mnotice\u001b[0m\u001b[1;39;49m]\u001b[0m\u001b[39;49m A new release of pip available: \u001b[0m\u001b[31;49m22.2.1\u001b[0m\u001b[39;49m -> \u001b[0m\u001b[32;49m24.3.1\u001b[0m\n",
      "\u001b[1m[\u001b[0m\u001b[34;49mnotice\u001b[0m\u001b[1;39;49m]\u001b[0m\u001b[39;49m To update, run: \u001b[0m\u001b[32;49mpip install --upgrade pip\u001b[0m\n"
     ]
    }
   ],
   "source": [
    "from IPython.display import clear_output\n",
    "! pip install hub"
   ]
  },
  {
   "cell_type": "code",
   "execution_count": 3,
   "metadata": {},
   "outputs": [
    {
     "name": "stdout",
     "output_type": "stream",
     "text": [
      "Requirement already satisfied: google-cloud-storage in /home/sdelannoy/.pyenv/versions/3.10.6/envs/foodbuddys/lib/python3.10/site-packages (2.18.2)\n",
      "Requirement already satisfied: google-crc32c<2.0dev,>=1.0 in /home/sdelannoy/.pyenv/versions/3.10.6/envs/foodbuddys/lib/python3.10/site-packages (from google-cloud-storage) (1.6.0)\n",
      "Requirement already satisfied: google-resumable-media>=2.7.2 in /home/sdelannoy/.pyenv/versions/3.10.6/envs/foodbuddys/lib/python3.10/site-packages (from google-cloud-storage) (2.7.2)\n",
      "Requirement already satisfied: google-auth<3.0dev,>=2.26.1 in /home/sdelannoy/.pyenv/versions/3.10.6/envs/foodbuddys/lib/python3.10/site-packages (from google-cloud-storage) (2.36.0)\n",
      "Requirement already satisfied: requests<3.0.0dev,>=2.18.0 in /home/sdelannoy/.pyenv/versions/3.10.6/envs/foodbuddys/lib/python3.10/site-packages (from google-cloud-storage) (2.32.3)\n",
      "Requirement already satisfied: google-api-core<3.0.0dev,>=2.15.0 in /home/sdelannoy/.pyenv/versions/3.10.6/envs/foodbuddys/lib/python3.10/site-packages (from google-cloud-storage) (2.23.0)\n",
      "Requirement already satisfied: google-cloud-core<3.0dev,>=2.3.0 in /home/sdelannoy/.pyenv/versions/3.10.6/envs/foodbuddys/lib/python3.10/site-packages (from google-cloud-storage) (2.4.1)\n",
      "Requirement already satisfied: googleapis-common-protos<2.0.dev0,>=1.56.2 in /home/sdelannoy/.pyenv/versions/3.10.6/envs/foodbuddys/lib/python3.10/site-packages (from google-api-core<3.0.0dev,>=2.15.0->google-cloud-storage) (1.66.0)\n",
      "Requirement already satisfied: proto-plus<2.0.0dev,>=1.22.3 in /home/sdelannoy/.pyenv/versions/3.10.6/envs/foodbuddys/lib/python3.10/site-packages (from google-api-core<3.0.0dev,>=2.15.0->google-cloud-storage) (1.25.0)\n",
      "Requirement already satisfied: protobuf!=3.20.0,!=3.20.1,!=4.21.0,!=4.21.1,!=4.21.2,!=4.21.3,!=4.21.4,!=4.21.5,<6.0.0.dev0,>=3.19.5 in /home/sdelannoy/.pyenv/versions/3.10.6/envs/foodbuddys/lib/python3.10/site-packages (from google-api-core<3.0.0dev,>=2.15.0->google-cloud-storage) (5.28.3)\n",
      "Requirement already satisfied: pyasn1-modules>=0.2.1 in /home/sdelannoy/.pyenv/versions/3.10.6/envs/foodbuddys/lib/python3.10/site-packages (from google-auth<3.0dev,>=2.26.1->google-cloud-storage) (0.4.1)\n",
      "Requirement already satisfied: cachetools<6.0,>=2.0.0 in /home/sdelannoy/.pyenv/versions/3.10.6/envs/foodbuddys/lib/python3.10/site-packages (from google-auth<3.0dev,>=2.26.1->google-cloud-storage) (5.5.0)\n",
      "Requirement already satisfied: rsa<5,>=3.1.4 in /home/sdelannoy/.pyenv/versions/3.10.6/envs/foodbuddys/lib/python3.10/site-packages (from google-auth<3.0dev,>=2.26.1->google-cloud-storage) (4.9)\n",
      "Requirement already satisfied: charset-normalizer<4,>=2 in /home/sdelannoy/.pyenv/versions/3.10.6/envs/foodbuddys/lib/python3.10/site-packages (from requests<3.0.0dev,>=2.18.0->google-cloud-storage) (3.4.0)\n",
      "Requirement already satisfied: certifi>=2017.4.17 in /home/sdelannoy/.pyenv/versions/3.10.6/envs/foodbuddys/lib/python3.10/site-packages (from requests<3.0.0dev,>=2.18.0->google-cloud-storage) (2024.8.30)\n",
      "Requirement already satisfied: urllib3<3,>=1.21.1 in /home/sdelannoy/.pyenv/versions/3.10.6/envs/foodbuddys/lib/python3.10/site-packages (from requests<3.0.0dev,>=2.18.0->google-cloud-storage) (2.2.3)\n",
      "Requirement already satisfied: idna<4,>=2.5 in /home/sdelannoy/.pyenv/versions/3.10.6/envs/foodbuddys/lib/python3.10/site-packages (from requests<3.0.0dev,>=2.18.0->google-cloud-storage) (3.10)\n",
      "Requirement already satisfied: pyasn1<0.7.0,>=0.4.6 in /home/sdelannoy/.pyenv/versions/3.10.6/envs/foodbuddys/lib/python3.10/site-packages (from pyasn1-modules>=0.2.1->google-auth<3.0dev,>=2.26.1->google-cloud-storage) (0.6.1)\n",
      "\n",
      "\u001b[1m[\u001b[0m\u001b[34;49mnotice\u001b[0m\u001b[1;39;49m]\u001b[0m\u001b[39;49m A new release of pip available: \u001b[0m\u001b[31;49m22.2.1\u001b[0m\u001b[39;49m -> \u001b[0m\u001b[32;49m24.3.1\u001b[0m\n",
      "\u001b[1m[\u001b[0m\u001b[34;49mnotice\u001b[0m\u001b[1;39;49m]\u001b[0m\u001b[39;49m To update, run: \u001b[0m\u001b[32;49mpip install --upgrade pip\u001b[0m\n",
      "Requirement already satisfied: deeplake in /home/sdelannoy/.pyenv/versions/3.10.6/envs/foodbuddys/lib/python3.10/site-packages (4.0.3)\n",
      "Requirement already satisfied: numpy in /home/sdelannoy/.pyenv/versions/3.10.6/envs/foodbuddys/lib/python3.10/site-packages (from deeplake) (2.1.3)\n",
      "\n",
      "\u001b[1m[\u001b[0m\u001b[34;49mnotice\u001b[0m\u001b[1;39;49m]\u001b[0m\u001b[39;49m A new release of pip available: \u001b[0m\u001b[31;49m22.2.1\u001b[0m\u001b[39;49m -> \u001b[0m\u001b[32;49m24.3.1\u001b[0m\n",
      "\u001b[1m[\u001b[0m\u001b[34;49mnotice\u001b[0m\u001b[1;39;49m]\u001b[0m\u001b[39;49m To update, run: \u001b[0m\u001b[32;49mpip install --upgrade pip\u001b[0m\n"
     ]
    }
   ],
   "source": [
    "! pip install google-cloud-storage\n",
    "! pip install deeplake"
   ]
  },
  {
   "cell_type": "code",
   "execution_count": 2,
   "metadata": {},
   "outputs": [],
   "source": [
    "import numpy as np\n",
    "import pandas as pd\n",
    "import os\n",
    "import json\n",
    "from matplotlib import pyplot as plt\n",
    "from google.cloud import storage"
   ]
  },
  {
   "cell_type": "code",
   "execution_count": 3,
   "metadata": {},
   "outputs": [
    {
     "data": {
      "text/plain": [
       "<Bucket: foodbuddy-dataset>"
      ]
     },
     "execution_count": 3,
     "metadata": {},
     "output_type": "execute_result"
    }
   ],
   "source": [
    "os.environ[\"GOOGLE_APPLICATION_CREDENTIALS\"] = \"./credentials.json\"\n",
    "\n",
    "client = storage.Client()\n",
    "\n",
    "bucket_name = 'foodbuddy-dataset'\n",
    "bucket = client.get_bucket(bucket_name)\n",
    "\n",
    "bucket"
   ]
  },
  {
   "cell_type": "code",
   "execution_count": 4,
   "metadata": {},
   "outputs": [
    {
     "name": "stdout",
     "output_type": "stream",
     "text": [
      "['csv', 'public_test_release_2.0', 'public_validation_set_2.0', 'public_training_set_release_2.0']\n"
     ]
    }
   ],
   "source": [
    "print(os.listdir('./raw_data'))"
   ]
  },
  {
   "cell_type": "code",
   "execution_count": 5,
   "metadata": {},
   "outputs": [],
   "source": [
    "def create_dataframe(annotations_path):\n",
    "    with open(annotations_path, 'r') as file:\n",
    "        data = json.load(file)\n",
    "\n",
    "    images = pd.DataFrame(data['images']).rename(columns={'id': 'image_id'})[['image_id', 'file_name', 'width', 'height']]\n",
    "\n",
    "    categories = pd.DataFrame(data['categories'])[['id', 'name', 'name_readable']]\n",
    "    categories.rename(columns={'id': 'category_id'}, inplace=True)\n",
    "\n",
    "    usecols = ['image_id', 'category_id']\n",
    "    annotations = pd.DataFrame(data['annotations'])[usecols]\n",
    "\n",
    "    dataframe = annotations.merge(categories, on='category_id').merge(images, on='image_id')[['file_name', 'name', 'name_readable']]\n",
    "\n",
    "    return dataframe"
   ]
  },
  {
   "cell_type": "code",
   "execution_count": 6,
   "metadata": {},
   "outputs": [],
   "source": [
    "annotation_train_path = './raw_data/public_training_set_release_2.0/annotations.json'\n",
    "image_train_path = './raw_data/public_training_set_release_2.0/images'\n",
    "annotation_val_path = './raw_data/public_validation_set_2.0/annotations.json'\n",
    "image_val_path = './raw_data/public_validation_set_release_2.0/images'"
   ]
  },
  {
   "cell_type": "code",
   "execution_count": 7,
   "metadata": {},
   "outputs": [],
   "source": [
    "train_df = create_dataframe(annotation_train_path).drop_duplicates().reset_index(drop=True)\n",
    "val_df = create_dataframe(annotation_val_path).drop_duplicates().reset_index(drop=True)"
   ]
  },
  {
   "cell_type": "code",
   "execution_count": 8,
   "metadata": {},
   "outputs": [],
   "source": [
    "train_df.to_csv('data_train_set.csv', index=False)\n",
    "val_df.to_csv('data_val_set.csv', index=False)"
   ]
  },
  {
   "cell_type": "code",
   "execution_count": 9,
   "metadata": {},
   "outputs": [
    {
     "data": {
      "text/plain": [
       "array(['soft-cheese', 'ham-raw', 'hard-cheese', 'bread-wholemeal',\n",
       "       'cottage-cheese', 'bread-half-white', 'fruit-salad', 'pancakes',\n",
       "       'salmon-smoked', 'avocado', 'spring-onion-scallion',\n",
       "       'ristretto-with-caffeine', 'chips-french-fries', 'pasta',\n",
       "       'tomato-sauce', 'cheese', 'pear', 'cashew-nut', 'almonds',\n",
       "       'lentils', 'mixed-vegetables', 'cucumber', 'cocoa-powder',\n",
       "       'greek-yaourt-yahourt-yogourt-ou-yoghourt',\n",
       "       'maple-syrup-concentrate', 'buckwheat-grain-peeled', 'chicken',\n",
       "       'broccoli', 'mayonnaise',\n",
       "       'green-bean-steamed-without-addition-of-salt', 'sausage',\n",
       "       'bread-meat-substitute-lettuce-sauce', 'tart', 'rice',\n",
       "       'tomato-raw', 'white-coffee-with-caffeine', 'apple', 'linseeds',\n",
       "       'sunflower-seeds', 'ham-cooked', 'lye-pretzel-soft', 'butter',\n",
       "       'cucumber-pickled', 'soup-cream-of-vegetables', 'banana',\n",
       "       'pasta-noodles', 'cream', 'cake-chocolate',\n",
       "       'salad-leaf-salad-green', 'potatoes-steamed', 'white-cabbage',\n",
       "       'applesauce-unsweetened-canned', 'mushrooms', 'egg', 'bread-white',\n",
       "       'coffee-with-caffeine', 'herbal-tea', 'beef-sirloin-steak',\n",
       "       'zucchini', 'mandarine', 'juice-apple',\n",
       "       'caprese-salad-tomato-mozzarella', 'wine-red',\n",
       "       'pasta-ravioli-stuffing', 'omelette-plain', 'dark-chocolate',\n",
       "       'french-salad-dressing', 'kaki', 'macaroon', 'carrot-raw',\n",
       "       'crepe-plain', 'jam', 'chicken-nuggets', 'soup-pumpkin', 'sushi',\n",
       "       'chestnuts', 'sauce-soya', 'chinese-cabbage', 'tea-green',\n",
       "       'bread-whole-wheat', 'eggplant', 'onion', 'garlic', 'hummus',\n",
       "       'pizza-with-vegetables-baked', 'black-olives',\n",
       "       'pizza-margherita-baked', 'salad-lambs-ear', 'glucose-drink-50g',\n",
       "       'mozzarella', 'cauliflower',\n",
       "       'quiche-with-spinach-baked-with-cake-dough', 'green-olives',\n",
       "       'bell-pepper-red-raw', 'brazil-nut', 'bread-pita',\n",
       "       'pasta-wholemeal', 'soup-of-lentils-dahl-dhal', 'prosecco',\n",
       "       'bread-toast', 'pasta-penne', 'salmon', 'panna-cotta',\n",
       "       'water-with-lemon-juice', 'espresso-with-caffeine',\n",
       "       'egg-scrambled-prepared', 'juice-orange', 'ice-cubes', 'water',\n",
       "       'braided-white-loaf', 'emmental-cheese',\n",
       "       'hazelnut-chocolate-spread-nutella-ovomaltine-caotina',\n",
       "       'water-mineral', 'quiche-with-cheese-baked-with-puff-pastry',\n",
       "       'bread-sourdough', 'hazelnut', 'bread-nut', 'soup-miso',\n",
       "       'curry-vegetarian', 'rice-basmati', 'bacon-frying',\n",
       "       'mashed-potatoes-prepared-with-full-fat-milk-with-butter',\n",
       "       'spinach-raw', 'naan-indien-bread', 'cream-spinach', 'halloumi',\n",
       "       'chicken-curry-cream-coconut-milk-curry-spices-paste',\n",
       "       'sauce-cream', 'bread-french-white-flour', 'tomme',\n",
       "       'vegetable-mix-peas-and-carrots', 'parsley', 'brownie', 'salami',\n",
       "       'dairy-ice-cream', 'carrot-cake',\n",
       "       'beetroot-steamed-without-addition-of-salt', 'salad-dressing',\n",
       "       'dried-meat', 'mixed-salad-chopped-without-sauce', 'feta', 'bread',\n",
       "       'chickpeas', 'oil', 'potato-salad-with-mayonnaise-yogurt-dressing',\n",
       "       'ham', 'balsamic-salad-dressing', 'romanesco', 'kolhrabi',\n",
       "       'alfa-sprouts', 'brussel-sprouts', 'bacon-cooking', 'bulgur',\n",
       "       'pumpkin', 'tea-black', 'tea', 'kiwi', 'chocolate-egg-small',\n",
       "       'cappuccino', 'chicken-wing',\n",
       "       'zucchini-stewed-without-addition-of-fat-without-addition-of-salt',\n",
       "       'gruyere', 'bread-black', 'fresh-cheese', 'mango',\n",
       "       'spinach-steamed-without-addition-of-salt', 'fish', 'crisps',\n",
       "       'pork', 'rosti', 'milk-chocolate-with-hazelnuts', 'flakes-oat',\n",
       "       'bread-grain', 'tuna', 'walnut', 'ratatouille', 'bacon',\n",
       "       'bouillon', 'sesame-seeds', 'baked-potato', 'fennel',\n",
       "       'beetroot-raw', 'meat', 'risotto-without-cheese-cooked',\n",
       "       'sauce-roast', 'philadelphia',\n",
       "       'mushroom-average-stewed-without-addition-of-fat-without-addition-of-salt',\n",
       "       'bell-pepper-red-stewed-without-addition-of-fat-without-addition-of-salt',\n",
       "       'white-chocolate', 'pork-escalope', 'breadcrumbs-unspiced',\n",
       "       'fondue', 'honey', 'strawberries', 'crunch-muesli',\n",
       "       'turnover-with-meat-small-meat-pie-empanadas', 'tea-rooibos',\n",
       "       'pie-plum-baked-with-cake-dough',\n",
       "       'potatoes-au-gratin-dauphinois-prepared', 'sauce-mushroom',\n",
       "       'mixed-nuts', 'bread-wholemeal-toast', 'red-radish', 'dumplings',\n",
       "       'pasta-linguini-parpadelle-tagliatelle',\n",
       "       'chicken-cut-into-stripes-only-meat', 'bouillon-vegetable',\n",
       "       'sun-dried-tomatoe', 'bread-ticino',\n",
       "       'porridge-prepared-with-partially-skimmed-milk',\n",
       "       'soya-drink-soy-milk', 'french-beans', 'meat-balls',\n",
       "       'popcorn-salted', 'beer', 'orange', 'chocolate-filled',\n",
       "       'milk-chocolate', 'blueberries',\n",
       "       'yaourt-yahourt-yogourt-ou-yoghourt-natural', 'bread-fruit',\n",
       "       'beef-cut-into-stripes-only-meat', 'corn', 'tete-de-moine',\n",
       "       'white-radish', 'sauce-pesto', 'parmesan', 'celery', 'oat-milk',\n",
       "       'soup-potato', 'cream-cheese', 'crisp-bread-wasa', 'grapes',\n",
       "       'witloof-chicory', 'bolognaise-sauce', 'apple-crumble',\n",
       "       'pistachio', 'pecan-nut', 'tofu', 'wine-white', 'tea-spice',\n",
       "       'quinoa', 'smoothie', 'leek', 'soup-vegetable', 'shrimp-boiled',\n",
       "       'kefir-drink', 'semi-hard-cheese', 'bread-rye', 'guacamole',\n",
       "       'm-m-s', 'juice-multifruit', 'salad-rocket',\n",
       "       'hamburger-bread-meat-ketchup', 'cookies', 'cake-oblong',\n",
       "       'pizza-with-ham-with-mushrooms-baked', 'fruit-coulis', 'plums',\n",
       "       'pizza-with-ham-baked', 'dates', 'peanut-butter', 'beans-kidney',\n",
       "       'pineapple', 'chicken-breast', 'cheddar', 'ketchup',\n",
       "       'tea-peppermint', 'fajita-bread-only', 'sweet-potato',\n",
       "       'savoury-puff-pastry-stick', 'chicken-leg', 'red-cabbage',\n",
       "       'croissant', 'pasta-hornli', 'chili-con-carne-prepared',\n",
       "       'sour-cream', 'cheese-for-raclette', 'sweet-corn-canned',\n",
       "       'processed-cheese', 'goat-cheese-soft', 'couscous', 'leaf-spinach',\n",
       "       'pasta-tortelloni-stuffing', 'praline',\n",
       "       'croissant-with-chocolate-filling', 'focaccia', 'capers',\n",
       "       'spaetzle', 'grissini', 'sweets-candies', 'fruit-tart', 'brie',\n",
       "       'mushroom', 'biscuit-with-butter', 'peanut',\n",
       "       'syrup-diluted-ready-to-drink', 'pasta-spaghetti', 'sauerkraut',\n",
       "       'mustard', 'vegetables', 'soup-tomato', 'apple-pie',\n",
       "       'white-bread-with-butter-eggs-and-milk', 'savoury-puff-pastry',\n",
       "       'pomegranate', 'anchovies', 'tuna-in-oil-drained', 'lemon-pie',\n",
       "       'pumpkin-seeds', 'faux-mage-cashew-vegan-chers', 'beans-white',\n",
       "       'sugar-melon', 'mixed-seeds', 'hamburger', 'hamburger-bun',\n",
       "       'oil-vinegar-salad-dressing', 'latte-macchiato-with-caffeine',\n",
       "       'greek-salad', 'celeriac', 'pasta-twist', 'chocolate-mousse',\n",
       "       'coriander', 'cenovis-yeast-spread', 'milk', 'thickened-cream-35',\n",
       "       'berries', 'meringue', 'biscuits', 'beef', 'lemon', 'muesli',\n",
       "       'chives', 'birchermuesli-prepared-no-sugar-added', 'crackers',\n",
       "       'fish-crunchies-battered', 'beef-filet', 'spring-roll-fried',\n",
       "       'muffin', 'bread-spelt',\n",
       "       'savoy-cabbage-steamed-without-addition-of-salt', 'pine-nuts',\n",
       "       'chorizo', 'chia-grains', 'frying-sausage',\n",
       "       'french-pizza-from-alsace-baked', 'perch-fillets-lake',\n",
       "       'paprika-chips',\n",
       "       'gummi-bears-fruit-jellies-jelly-babies-with-fruit-essence',\n",
       "       'sauce-savoury', 'blue-mould-cheese', 'wine-rose',\n",
       "       'meat-terrine-pate', 'roll-with-pieces-of-chocolate',\n",
       "       'goat-average-raw', 'lemon-cake', 'coconut-milk', 'dried-raisins',\n",
       "       'eggplant-caviar', 'rice-wild', 'pastry-flaky', 'seeds',\n",
       "       'falafel-balls', 'gluten-free-bread', 'kebab-in-pita-bread',\n",
       "       'wienerli-swiss-sausage', 'bread-5-grain', 'mustard-dijon',\n",
       "       'cooked-sausage', 'risotto-with-mushrooms-cooked',\n",
       "       'beef-minced-only-meat', 'chocolate', 'meatloaf',\n",
       "       'salt-cake-vegetables-filled', 'cantonese-fried-rice',\n",
       "       'shrimp-prawn-small', 'butter-herb', 'balsamic-vinegar',\n",
       "       'roll-of-half-white-or-white-flour-with-large-void',\n",
       "       'chocolate-cookies', 'corn-crisps', 'bagel-without-filling',\n",
       "       'lentils-green-du-puy-du-berry', 'chocolate-milk-chocolate-drink',\n",
       "       'cocktail', 'croutons', 'cod',\n",
       "       'soya-yaourt-yahourt-yogourt-ou-yoghourt', 'veal-sausage',\n",
       "       'cheesecake', 'cordon-bleu-from-pork-schnitzel-fried',\n",
       "       'sandwich-ham-cheese-and-butter',\n",
       "       'pasta-in-butterfly-form-farfalle', 'grits-polenta-maize-flour',\n",
       "       'croque-monsieur', 'raspberries', 'ice-tea',\n",
       "       'lasagne-vegetable-prepared', 'dips', 'corn-flakes', 'swiss-chard',\n",
       "       'rice-noodles-vermicelli', 'tiramisu', 'peas', 'pork-roast',\n",
       "       'sauce-curry', 'apricots', 'lamb', 'lasagne-meat-prepared',\n",
       "       'bouquet-garni', 'butter-spread-puree-almond', 'cake-salted',\n",
       "       'shrimp-prawn-large',\n",
       "       'dough-puff-pastry-shortcrust-bread-pizza-dough', 'rice-waffels',\n",
       "       'cervelat', 'tea-verveine', 'sekt', 'sorbet', 'brioche',\n",
       "       'coca-cola', 'coca-cola-zero', 'processed-meat-charcuterie',\n",
       "       'ham-croissant', 'mousse', 'sauce-sweet-sour', 'ham-turkey',\n",
       "       'rice-whole-grain', 'mungbean-sprouts', 'tea-ginger', 'basil',\n",
       "       'pie-apricot-baked-with-cake-dough', 'light-beer', 'lamb-chop',\n",
       "       'rusk-wholemeal', 'coleslaw-chopped-without-sauce',\n",
       "       'mix-of-dried-fruits-and-nuts', 'beef-roast',\n",
       "       'aperitif-with-alcohol-aperol-spritz', 'nuts',\n",
       "       'vanille-cream-cooked-custard-creme-dessert', 'tartar-sauce',\n",
       "       'country-fries', 'sauce-carbonara', 'rice-jasmin', 'champagne',\n",
       "       'minced-meat', 'carrot-steamed-without-addition-of-salt', 'ebly',\n",
       "       'high-protein-pasta-made-of-lentils-peas', 'veggie-burger',\n",
       "       'fish-fingers-breaded', 'artichoke', 'mango-dried', 'coconut',\n",
       "       'banana-cake', 'waffle', 'apricot-dried', 'watermelon-fresh',\n",
       "       'taboule-prepared-with-couscous', 'black-forest-tart',\n",
       "       'pearl-onions', 'tzatziki', 'sauce-sweet-salted-asian',\n",
       "       'fruit-compotes', 'bread-olive', 'margarine', 'green-asparagus',\n",
       "       'shoots', 'pasta-in-conch-form', 'grapefruit-pomelo',\n",
       "       'vegetable-au-gratin-baked', 'pork-chop', 'blackberry',\n",
       "       'coffee-decaffeinated', 'bacon-raw', 'fig-dried', 'potato-gnocchi',\n",
       "       'italian-salad-dressing', 'cake-marble', 'sugar-glazing',\n",
       "       'croissant-wholegrain', 'tea-fruit', 'tartar-meat',\n",
       "       'curds-natural-with-at-most-10-fidm', 'white-asparagus', 'peach',\n",
       "       'curd', 'smoked-cooked-sausage-of-pork-and-beef-meat-sausag',\n",
       "       'pie-rhubarb-baked-with-cake-dough', 'sauce-cocktail',\n",
       "       'tomato-stewed-without-addition-of-fat-without-addition-of-salt',\n",
       "       'buckwheat-pancake', 'cherries', 'nectarine', 'figs',\n",
       "       'damson-plum', 'bean-seeds'], dtype=object)"
      ]
     },
     "execution_count": 9,
     "metadata": {},
     "output_type": "execute_result"
    }
   ],
   "source": [
    "train_df['name'].unique()"
   ]
  },
  {
   "cell_type": "code",
   "execution_count": null,
   "metadata": {},
   "outputs": [],
   "source": [
    "drinks = ['white-coffee-with-caffeine', 'coffee-with-caffeine', 'herbal-tea','juice-apple', 'wine-red', 'tea-green', 'prosecco', 'water-with-lemon-juice', 'espresso-with-caffeine', 'juice-orange', 'ice-cubes', 'water', 'water-mineral', 'tea-black', 'tea', 'milk-chocolate-with-hazelnuts', 'tea-rooibos', 'oat-milk', 'wine-white', 'tea-spice', 'juice-multifruit', 'tea-peppermint', 'milk',  'wine-rose', 'cocktail', 'ice-tea', 'tea-verveine', 'coca-cola', 'coca-cola-zero', ]"
   ]
  },
  {
   "cell_type": "markdown",
   "metadata": {},
   "source": [
    "### Combien de valeurs uniques ?"
   ]
  },
  {
   "cell_type": "code",
   "execution_count": 12,
   "metadata": {},
   "outputs": [
    {
     "data": {
      "text/plain": [
       "39962"
      ]
     },
     "execution_count": 12,
     "metadata": {},
     "output_type": "execute_result"
    }
   ],
   "source": [
    "train_df['file_name'].nunique()"
   ]
  },
  {
   "cell_type": "code",
   "execution_count": 13,
   "metadata": {},
   "outputs": [
    {
     "data": {
      "text/html": [
       "<div>\n",
       "<style scoped>\n",
       "    .dataframe tbody tr th:only-of-type {\n",
       "        vertical-align: middle;\n",
       "    }\n",
       "\n",
       "    .dataframe tbody tr th {\n",
       "        vertical-align: top;\n",
       "    }\n",
       "\n",
       "    .dataframe thead th {\n",
       "        text-align: right;\n",
       "    }\n",
       "</style>\n",
       "<table border=\"1\" class=\"dataframe\">\n",
       "  <thead>\n",
       "    <tr style=\"text-align: right;\">\n",
       "      <th></th>\n",
       "      <th>file_name</th>\n",
       "      <th>name</th>\n",
       "    </tr>\n",
       "  </thead>\n",
       "  <tbody>\n",
       "    <tr>\n",
       "      <th>0</th>\n",
       "      <td>006316.jpg</td>\n",
       "      <td>[cake-chocolate]</td>\n",
       "    </tr>\n",
       "    <tr>\n",
       "      <th>1</th>\n",
       "      <td>006331.jpg</td>\n",
       "      <td>[sugar-melon]</td>\n",
       "    </tr>\n",
       "    <tr>\n",
       "      <th>2</th>\n",
       "      <td>006335.jpg</td>\n",
       "      <td>[mixed-salad-chopped-without-sauce, salad-dres...</td>\n",
       "    </tr>\n",
       "    <tr>\n",
       "      <th>3</th>\n",
       "      <td>006346.jpg</td>\n",
       "      <td>[chips-french-fries, hamburger, hamburger-bun,...</td>\n",
       "    </tr>\n",
       "    <tr>\n",
       "      <th>4</th>\n",
       "      <td>006351.jpg</td>\n",
       "      <td>[pie-plum-baked-with-cake-dough]</td>\n",
       "    </tr>\n",
       "    <tr>\n",
       "      <th>...</th>\n",
       "      <td>...</td>\n",
       "      <td>...</td>\n",
       "    </tr>\n",
       "    <tr>\n",
       "      <th>39957</th>\n",
       "      <td>185804.jpg</td>\n",
       "      <td>[carrot-raw, egg, cheese, bread-white, ham]</td>\n",
       "    </tr>\n",
       "    <tr>\n",
       "      <th>39958</th>\n",
       "      <td>185837.jpg</td>\n",
       "      <td>[salad-leaf-salad-green, fennel]</td>\n",
       "    </tr>\n",
       "    <tr>\n",
       "      <th>39959</th>\n",
       "      <td>185857.jpg</td>\n",
       "      <td>[grapes]</td>\n",
       "    </tr>\n",
       "    <tr>\n",
       "      <th>39960</th>\n",
       "      <td>185859.jpg</td>\n",
       "      <td>[tiramisu]</td>\n",
       "    </tr>\n",
       "    <tr>\n",
       "      <th>39961</th>\n",
       "      <td>185902.jpg</td>\n",
       "      <td>[figs]</td>\n",
       "    </tr>\n",
       "  </tbody>\n",
       "</table>\n",
       "<p>39962 rows × 2 columns</p>\n",
       "</div>"
      ],
      "text/plain": [
       "        file_name                                               name\n",
       "0      006316.jpg                                   [cake-chocolate]\n",
       "1      006331.jpg                                      [sugar-melon]\n",
       "2      006335.jpg  [mixed-salad-chopped-without-sauce, salad-dres...\n",
       "3      006346.jpg  [chips-french-fries, hamburger, hamburger-bun,...\n",
       "4      006351.jpg                   [pie-plum-baked-with-cake-dough]\n",
       "...           ...                                                ...\n",
       "39957  185804.jpg        [carrot-raw, egg, cheese, bread-white, ham]\n",
       "39958  185837.jpg                   [salad-leaf-salad-green, fennel]\n",
       "39959  185857.jpg                                           [grapes]\n",
       "39960  185859.jpg                                         [tiramisu]\n",
       "39961  185902.jpg                                             [figs]\n",
       "\n",
       "[39962 rows x 2 columns]"
      ]
     },
     "execution_count": 13,
     "metadata": {},
     "output_type": "execute_result"
    }
   ],
   "source": [
    "train_df = train_df.groupby('file_name')['name'].agg(list).reset_index()\n",
    "train_df"
   ]
  },
  {
   "cell_type": "code",
   "execution_count": 14,
   "metadata": {},
   "outputs": [
    {
     "name": "stderr",
     "output_type": "stream",
     "text": [
      "/tmp/ipykernel_14640/3032456753.py:1: FutureWarning: using <built-in function len> in Series.agg cannot aggregate and has been deprecated. Use Series.transform to keep behavior unchanged.\n",
      "  train_df['nbr_ingredient'] = train_df['name'].agg(len)\n"
     ]
    },
    {
     "data": {
      "text/html": [
       "<div>\n",
       "<style scoped>\n",
       "    .dataframe tbody tr th:only-of-type {\n",
       "        vertical-align: middle;\n",
       "    }\n",
       "\n",
       "    .dataframe tbody tr th {\n",
       "        vertical-align: top;\n",
       "    }\n",
       "\n",
       "    .dataframe thead th {\n",
       "        text-align: right;\n",
       "    }\n",
       "</style>\n",
       "<table border=\"1\" class=\"dataframe\">\n",
       "  <thead>\n",
       "    <tr style=\"text-align: right;\">\n",
       "      <th></th>\n",
       "      <th>file_name</th>\n",
       "      <th>name</th>\n",
       "      <th>nbr_ingredient</th>\n",
       "    </tr>\n",
       "  </thead>\n",
       "  <tbody>\n",
       "    <tr>\n",
       "      <th>19717</th>\n",
       "      <td>085898.jpg</td>\n",
       "      <td>[tea-fruit]</td>\n",
       "      <td>1</td>\n",
       "    </tr>\n",
       "    <tr>\n",
       "      <th>19735</th>\n",
       "      <td>085954.jpg</td>\n",
       "      <td>[ketchup]</td>\n",
       "      <td>1</td>\n",
       "    </tr>\n",
       "    <tr>\n",
       "      <th>19737</th>\n",
       "      <td>085956.jpg</td>\n",
       "      <td>[wine-red]</td>\n",
       "      <td>1</td>\n",
       "    </tr>\n",
       "    <tr>\n",
       "      <th>34877</th>\n",
       "      <td>160654.jpg</td>\n",
       "      <td>[tea]</td>\n",
       "      <td>1</td>\n",
       "    </tr>\n",
       "    <tr>\n",
       "      <th>34879</th>\n",
       "      <td>160667.jpg</td>\n",
       "      <td>[coffee-with-caffeine]</td>\n",
       "      <td>1</td>\n",
       "    </tr>\n",
       "    <tr>\n",
       "      <th>...</th>\n",
       "      <td>...</td>\n",
       "      <td>...</td>\n",
       "      <td>...</td>\n",
       "    </tr>\n",
       "    <tr>\n",
       "      <th>27575</th>\n",
       "      <td>118503.jpg</td>\n",
       "      <td>[pork, sugar-melon, watermelon-fresh, grapes, ...</td>\n",
       "      <td>11</td>\n",
       "    </tr>\n",
       "    <tr>\n",
       "      <th>35496</th>\n",
       "      <td>163431.jpg</td>\n",
       "      <td>[corn, naan-indien-bread, chickpeas, raspberri...</td>\n",
       "      <td>11</td>\n",
       "    </tr>\n",
       "    <tr>\n",
       "      <th>4562</th>\n",
       "      <td>025627.jpg</td>\n",
       "      <td>[salmon, mushroom, chicken-breast, mustard, ch...</td>\n",
       "      <td>11</td>\n",
       "    </tr>\n",
       "    <tr>\n",
       "      <th>9762</th>\n",
       "      <td>045357.jpg</td>\n",
       "      <td>[watermelon-fresh, apple, lemon, eggplant, fet...</td>\n",
       "      <td>12</td>\n",
       "    </tr>\n",
       "    <tr>\n",
       "      <th>16084</th>\n",
       "      <td>074414.jpg</td>\n",
       "      <td>[cucumber-pickled, dried-meat, bacon-raw, ham-...</td>\n",
       "      <td>13</td>\n",
       "    </tr>\n",
       "  </tbody>\n",
       "</table>\n",
       "<p>39962 rows × 3 columns</p>\n",
       "</div>"
      ],
      "text/plain": [
       "        file_name                                               name  \\\n",
       "19717  085898.jpg                                        [tea-fruit]   \n",
       "19735  085954.jpg                                          [ketchup]   \n",
       "19737  085956.jpg                                         [wine-red]   \n",
       "34877  160654.jpg                                              [tea]   \n",
       "34879  160667.jpg                             [coffee-with-caffeine]   \n",
       "...           ...                                                ...   \n",
       "27575  118503.jpg  [pork, sugar-melon, watermelon-fresh, grapes, ...   \n",
       "35496  163431.jpg  [corn, naan-indien-bread, chickpeas, raspberri...   \n",
       "4562   025627.jpg  [salmon, mushroom, chicken-breast, mustard, ch...   \n",
       "9762   045357.jpg  [watermelon-fresh, apple, lemon, eggplant, fet...   \n",
       "16084  074414.jpg  [cucumber-pickled, dried-meat, bacon-raw, ham-...   \n",
       "\n",
       "       nbr_ingredient  \n",
       "19717               1  \n",
       "19735               1  \n",
       "19737               1  \n",
       "34877               1  \n",
       "34879               1  \n",
       "...               ...  \n",
       "27575              11  \n",
       "35496              11  \n",
       "4562               11  \n",
       "9762               12  \n",
       "16084              13  \n",
       "\n",
       "[39962 rows x 3 columns]"
      ]
     },
     "execution_count": 14,
     "metadata": {},
     "output_type": "execute_result"
    }
   ],
   "source": [
    "train_df['nbr_ingredient'] = train_df['name'].agg(len)\n",
    "train_df_ingr = train_df.sort_values('nbr_ingredient', ascending=True)\n",
    "train_df_ingr"
   ]
  },
  {
   "cell_type": "code",
   "execution_count": 15,
   "metadata": {},
   "outputs": [
    {
     "data": {
      "text/plain": [
       "(array([2.4302e+04, 7.4500e+03, 4.4570e+03, 2.1350e+03, 9.0500e+02,\n",
       "        4.2300e+02, 0.0000e+00, 1.7700e+02, 6.8000e+01, 2.4000e+01,\n",
       "        1.2000e+01, 7.0000e+00, 1.0000e+00, 1.0000e+00]),\n",
       " array([ 1.        ,  1.85714286,  2.71428571,  3.57142857,  4.42857143,\n",
       "         5.28571429,  6.14285714,  7.        ,  7.85714286,  8.71428571,\n",
       "         9.57142857, 10.42857143, 11.28571429, 12.14285714, 13.        ]),\n",
       " <BarContainer object of 14 artists>)"
      ]
     },
     "execution_count": 15,
     "metadata": {},
     "output_type": "execute_result"
    },
    {
     "data": {
      "image/png": "[encoded data removed]",
      "text/plain": [
       "<Figure size 640x480 with 1 Axes>"
      ]
     },
     "metadata": {},
     "output_type": "display_data"
    }
   ],
   "source": [
    "plt.hist(train_df_ingr['nbr_ingredient'], bins=14)"
   ]
  },
  {
   "cell_type": "code",
   "execution_count": 19,
   "metadata": {},
   "outputs": [
    {
     "name": "stderr",
     "output_type": "stream",
     "text": [
      "/tmp/ipykernel_14640/540773858.py:4: SettingWithCopyWarning: \n",
      "A value is trying to be set on a copy of a slice from a DataFrame.\n",
      "Try using .loc[row_indexer,col_indexer] = value instead\n",
      "\n",
      "See the caveats in the documentation: https://pandas.pydata.org/pandas-docs/stable/user_guide/indexing.html#returning-a-view-versus-a-copy\n",
      "  train_samples['name_str'] = train_samples['name'].apply(lambda x: ''.join(x))\n"
     ]
    },
    {
     "data": {
      "text/plain": [
       "485"
      ]
     },
     "execution_count": 19,
     "metadata": {},
     "output_type": "execute_result"
    }
   ],
   "source": [
    "indice = int(np.where(train_df_ingr['nbr_ingredient']>1)[0][0])\n",
    "\n",
    "train_samples = train_df_ingr.iloc[:indice]\n",
    "train_samples['name_str'] = train_samples['name'].apply(lambda x: ''.join(x))\n",
    "train_samples['name_str'].nunique()"
   ]
  },
  {
   "cell_type": "code",
   "execution_count": 18,
   "metadata": {},
   "outputs": [
    {
     "ename": "NameError",
     "evalue": "name 'train_sample' is not defined",
     "output_type": "error",
     "traceback": [
      "\u001b[0;31m---------------------------------------------------------------------------\u001b[0m",
      "\u001b[0;31mNameError\u001b[0m                                 Traceback (most recent call last)",
      "Cell \u001b[0;32mIn[18], line 1\u001b[0m\n\u001b[0;32m----> 1\u001b[0m train_sample_by_ingr \u001b[38;5;241m=\u001b[39m \u001b[43mtrain_sample\u001b[49m\u001b[38;5;241m.\u001b[39msort_values(\u001b[38;5;124m'\u001b[39m\u001b[38;5;124mname\u001b[39m\u001b[38;5;124m'\u001b[39m)\n\u001b[1;32m      2\u001b[0m train_sample_by_ingr[\u001b[38;5;124m'\u001b[39m\u001b[38;5;124mname_str\u001b[39m\u001b[38;5;124m'\u001b[39m] \u001b[38;5;241m=\u001b[39m train_sample_by_ingr[\u001b[38;5;124m'\u001b[39m\u001b[38;5;124mname\u001b[39m\u001b[38;5;124m'\u001b[39m]\u001b[38;5;241m.\u001b[39mapply(\u001b[38;5;28;01mlambda\u001b[39;00m x: \u001b[38;5;124m'\u001b[39m\u001b[38;5;124m'\u001b[39m\u001b[38;5;241m.\u001b[39mjoin(x))\n\u001b[1;32m      3\u001b[0m train_sample_by_ingr[\u001b[38;5;124m'\u001b[39m\u001b[38;5;124mcount\u001b[39m\u001b[38;5;124m'\u001b[39m] \u001b[38;5;241m=\u001b[39m train_sample_by_ingr\u001b[38;5;241m.\u001b[39mgroupby(\u001b[38;5;124m'\u001b[39m\u001b[38;5;124mname_str\u001b[39m\u001b[38;5;124m'\u001b[39m)[\u001b[38;5;124m'\u001b[39m\u001b[38;5;124mname\u001b[39m\u001b[38;5;124m'\u001b[39m]\u001b[38;5;241m.\u001b[39mtransform(\u001b[38;5;124m'\u001b[39m\u001b[38;5;124mcount\u001b[39m\u001b[38;5;124m'\u001b[39m)\n",
      "\u001b[0;31mNameError\u001b[0m: name 'train_sample' is not defined"
     ]
    }
   ],
   "source": [
    "train_sample_by_ingr = train_sample.sort_values('name')\n",
    "train_sample_by_ingr['name_str'] = train_sample_by_ingr['name'].apply(lambda x: ''.join(x))\n",
    "train_sample_by_ingr['count'] = train_sample_by_ingr.groupby('name_str')['name'].transform('count')\n",
    "train_sample_by_ingr = train_sample_by_ingr.sort_values('count', ascending=False)\n",
    "train_sample_by_ingr = train_sample_by_ingr.groupby('name_str')['count'].apply('count')\n",
    "train_sample_by_ingr = pd.DataFrame(train_sample_by_ingr).sort_values(by='count', ascending=False).head(30)\n",
    "train_sample_by_ingr"
   ]
  },
  {
   "cell_type": "code",
   "execution_count": 103,
   "metadata": {},
   "outputs": [
    {
     "data": {
      "text/plain": [
       "<Figure size 3000x1000 with 0 Axes>"
      ]
     },
     "metadata": {},
     "output_type": "display_data"
    },
    {
     "data": {
      "image/png": "[encoded data removed]",
      "text/plain": [
       "<Figure size 640x480 with 1 Axes>"
      ]
     },
     "metadata": {},
     "output_type": "display_data"
    }
   ],
   "source": [
    "import matplotlib.pyplot as plt\n",
    "\n",
    "# Plotting\n",
    "plt.figure(figsize=(30,10))\n",
    "train_sample_by_ingr.plot(kind='bar', color='skyblue')\n",
    "\n",
    "plt.title('Ingredient Frequency')\n",
    "plt.xlabel('Ingredients')\n",
    "plt.ylabel('Counts')\n",
    "plt.xticks(rotation=45)  # Rotates labels to make them readable\n",
    "plt.show()"
   ]
  },
  {
   "cell_type": "code",
   "execution_count": 105,
   "metadata": {},
   "outputs": [
    {
     "data": {
      "text/html": [
       "<div>\n",
       "<style scoped>\n",
       "    .dataframe tbody tr th:only-of-type {\n",
       "        vertical-align: middle;\n",
       "    }\n",
       "\n",
       "    .dataframe tbody tr th {\n",
       "        vertical-align: top;\n",
       "    }\n",
       "\n",
       "    .dataframe thead th {\n",
       "        text-align: right;\n",
       "    }\n",
       "</style>\n",
       "<table border=\"1\" class=\"dataframe\">\n",
       "  <thead>\n",
       "    <tr style=\"text-align: right;\">\n",
       "      <th></th>\n",
       "      <th>count</th>\n",
       "    </tr>\n",
       "    <tr>\n",
       "      <th>name_str</th>\n",
       "      <th></th>\n",
       "    </tr>\n",
       "  </thead>\n",
       "  <tbody>\n",
       "    <tr>\n",
       "      <th>water</th>\n",
       "      <td>2684</td>\n",
       "    </tr>\n",
       "    <tr>\n",
       "      <th>coffee-with-caffeine</th>\n",
       "      <td>1176</td>\n",
       "    </tr>\n",
       "    <tr>\n",
       "      <th>bread-white</th>\n",
       "      <td>916</td>\n",
       "    </tr>\n",
       "    <tr>\n",
       "      <th>wine-red</th>\n",
       "      <td>690</td>\n",
       "    </tr>\n",
       "    <tr>\n",
       "      <th>apple</th>\n",
       "      <td>651</td>\n",
       "    </tr>\n",
       "    <tr>\n",
       "      <th>espresso-with-caffeine</th>\n",
       "      <td>443</td>\n",
       "    </tr>\n",
       "    <tr>\n",
       "      <th>banana</th>\n",
       "      <td>436</td>\n",
       "    </tr>\n",
       "    <tr>\n",
       "      <th>tea</th>\n",
       "      <td>428</td>\n",
       "    </tr>\n",
       "    <tr>\n",
       "      <th>wine-white</th>\n",
       "      <td>419</td>\n",
       "    </tr>\n",
       "    <tr>\n",
       "      <th>white-coffee-with-caffeine</th>\n",
       "      <td>418</td>\n",
       "    </tr>\n",
       "    <tr>\n",
       "      <th>salad-leaf-salad-green</th>\n",
       "      <td>385</td>\n",
       "    </tr>\n",
       "    <tr>\n",
       "      <th>egg</th>\n",
       "      <td>330</td>\n",
       "    </tr>\n",
       "    <tr>\n",
       "      <th>bread-wholemeal</th>\n",
       "      <td>307</td>\n",
       "    </tr>\n",
       "    <tr>\n",
       "      <th>carrot-raw</th>\n",
       "      <td>263</td>\n",
       "    </tr>\n",
       "    <tr>\n",
       "      <th>glucose-drink-50g</th>\n",
       "      <td>253</td>\n",
       "    </tr>\n",
       "    <tr>\n",
       "      <th>tomato-raw</th>\n",
       "      <td>232</td>\n",
       "    </tr>\n",
       "    <tr>\n",
       "      <th>water-mineral</th>\n",
       "      <td>230</td>\n",
       "    </tr>\n",
       "    <tr>\n",
       "      <th>beer</th>\n",
       "      <td>226</td>\n",
       "    </tr>\n",
       "    <tr>\n",
       "      <th>herbal-tea</th>\n",
       "      <td>219</td>\n",
       "    </tr>\n",
       "    <tr>\n",
       "      <th>strawberries</th>\n",
       "      <td>213</td>\n",
       "    </tr>\n",
       "    <tr>\n",
       "      <th>juice-orange</th>\n",
       "      <td>201</td>\n",
       "    </tr>\n",
       "    <tr>\n",
       "      <th>dark-chocolate</th>\n",
       "      <td>199</td>\n",
       "    </tr>\n",
       "    <tr>\n",
       "      <th>tea-green</th>\n",
       "      <td>188</td>\n",
       "    </tr>\n",
       "    <tr>\n",
       "      <th>cappuccino</th>\n",
       "      <td>174</td>\n",
       "    </tr>\n",
       "    <tr>\n",
       "      <th>tea-black</th>\n",
       "      <td>173</td>\n",
       "    </tr>\n",
       "    <tr>\n",
       "      <th>mandarine</th>\n",
       "      <td>167</td>\n",
       "    </tr>\n",
       "    <tr>\n",
       "      <th>pear</th>\n",
       "      <td>165</td>\n",
       "    </tr>\n",
       "    <tr>\n",
       "      <th>mixed-nuts</th>\n",
       "      <td>165</td>\n",
       "    </tr>\n",
       "    <tr>\n",
       "      <th>cake-chocolate</th>\n",
       "      <td>162</td>\n",
       "    </tr>\n",
       "    <tr>\n",
       "      <th>bread-whole-wheat</th>\n",
       "      <td>160</td>\n",
       "    </tr>\n",
       "  </tbody>\n",
       "</table>\n",
       "</div>"
      ],
      "text/plain": [
       "                            count\n",
       "name_str                         \n",
       "water                        2684\n",
       "coffee-with-caffeine         1176\n",
       "bread-white                   916\n",
       "wine-red                      690\n",
       "apple                         651\n",
       "espresso-with-caffeine        443\n",
       "banana                        436\n",
       "tea                           428\n",
       "wine-white                    419\n",
       "white-coffee-with-caffeine    418\n",
       "salad-leaf-salad-green        385\n",
       "egg                           330\n",
       "bread-wholemeal               307\n",
       "carrot-raw                    263\n",
       "glucose-drink-50g             253\n",
       "tomato-raw                    232\n",
       "water-mineral                 230\n",
       "beer                          226\n",
       "herbal-tea                    219\n",
       "strawberries                  213\n",
       "juice-orange                  201\n",
       "dark-chocolate                199\n",
       "tea-green                     188\n",
       "cappuccino                    174\n",
       "tea-black                     173\n",
       "mandarine                     167\n",
       "pear                          165\n",
       "mixed-nuts                    165\n",
       "cake-chocolate                162\n",
       "bread-whole-wheat             160"
      ]
     },
     "execution_count": 105,
     "metadata": {},
     "output_type": "execute_result"
    }
   ],
   "source": [
    "train_sample_by_ingr"
   ]
  },
  {
   "cell_type": "code",
   "execution_count": 115,
   "metadata": {},
   "outputs": [
    {
     "data": {
      "text/html": [
       "<div>\n",
       "<style scoped>\n",
       "    .dataframe tbody tr th:only-of-type {\n",
       "        vertical-align: middle;\n",
       "    }\n",
       "\n",
       "    .dataframe tbody tr th {\n",
       "        vertical-align: top;\n",
       "    }\n",
       "\n",
       "    .dataframe thead th {\n",
       "        text-align: right;\n",
       "    }\n",
       "</style>\n",
       "<table border=\"1\" class=\"dataframe\">\n",
       "  <thead>\n",
       "    <tr style=\"text-align: right;\">\n",
       "      <th></th>\n",
       "      <th>file_name</th>\n",
       "      <th>name</th>\n",
       "      <th>nbr_ingredient</th>\n",
       "    </tr>\n",
       "  </thead>\n",
       "  <tbody>\n",
       "    <tr>\n",
       "      <th>0</th>\n",
       "      <td>006316.jpg</td>\n",
       "      <td>cake-chocolate</td>\n",
       "      <td>1</td>\n",
       "    </tr>\n",
       "    <tr>\n",
       "      <th>6</th>\n",
       "      <td>006458.jpg</td>\n",
       "      <td>pear</td>\n",
       "      <td>1</td>\n",
       "    </tr>\n",
       "    <tr>\n",
       "      <th>10</th>\n",
       "      <td>006493.jpg</td>\n",
       "      <td>apple</td>\n",
       "      <td>1</td>\n",
       "    </tr>\n",
       "    <tr>\n",
       "      <th>15</th>\n",
       "      <td>006508.jpg</td>\n",
       "      <td>salad-leaf-salad-green</td>\n",
       "      <td>1</td>\n",
       "    </tr>\n",
       "    <tr>\n",
       "      <th>40</th>\n",
       "      <td>006615.jpg</td>\n",
       "      <td>apple</td>\n",
       "      <td>1</td>\n",
       "    </tr>\n",
       "    <tr>\n",
       "      <th>...</th>\n",
       "      <td>...</td>\n",
       "      <td>...</td>\n",
       "      <td>...</td>\n",
       "    </tr>\n",
       "    <tr>\n",
       "      <th>39909</th>\n",
       "      <td>185123.jpg</td>\n",
       "      <td>beer</td>\n",
       "      <td>1</td>\n",
       "    </tr>\n",
       "    <tr>\n",
       "      <th>39911</th>\n",
       "      <td>185136.jpg</td>\n",
       "      <td>salad-leaf-salad-green</td>\n",
       "      <td>1</td>\n",
       "    </tr>\n",
       "    <tr>\n",
       "      <th>39928</th>\n",
       "      <td>185351.jpg</td>\n",
       "      <td>apple</td>\n",
       "      <td>1</td>\n",
       "    </tr>\n",
       "    <tr>\n",
       "      <th>39929</th>\n",
       "      <td>185366.jpg</td>\n",
       "      <td>apple</td>\n",
       "      <td>1</td>\n",
       "    </tr>\n",
       "    <tr>\n",
       "      <th>39934</th>\n",
       "      <td>185425.jpg</td>\n",
       "      <td>bread-whole-wheat</td>\n",
       "      <td>1</td>\n",
       "    </tr>\n",
       "  </tbody>\n",
       "</table>\n",
       "<p>3625 rows × 3 columns</p>\n",
       "</div>"
      ],
      "text/plain": [
       "        file_name                    name  nbr_ingredient\n",
       "0      006316.jpg          cake-chocolate               1\n",
       "6      006458.jpg                    pear               1\n",
       "10     006493.jpg                   apple               1\n",
       "15     006508.jpg  salad-leaf-salad-green               1\n",
       "40     006615.jpg                   apple               1\n",
       "...           ...                     ...             ...\n",
       "39909  185123.jpg                    beer               1\n",
       "39911  185136.jpg  salad-leaf-salad-green               1\n",
       "39928  185351.jpg                   apple               1\n",
       "39929  185366.jpg                   apple               1\n",
       "39934  185425.jpg       bread-whole-wheat               1\n",
       "\n",
       "[3625 rows x 3 columns]"
      ]
     },
     "execution_count": 115,
     "metadata": {},
     "output_type": "execute_result"
    }
   ],
   "source": [
    "desired_ingredients = ['apple', 'salad-leaf-salad-green', 'egg', 'bread-wholemeal', 'carrot-raw', 'tomato-raw', 'beer', 'strawberries', 'dark-chocolate', 'mandarine', 'pear', 'mixed-nuts', 'cake-chocolate', 'bread-whole-wheat']\n",
    "\n",
    "train_df['name'] = train_df['name'].apply(lambda x: ''.join(x))\n",
    "train_df_sample = train_df[train_df['name'].isin(desired_ingredients)]\n",
    "train_df_sample"
   ]
  },
  {
   "cell_type": "code",
   "execution_count": 116,
   "metadata": {},
   "outputs": [],
   "source": [
    "train_df_sample.to_csv('train_df_sample.csv', index=False)"
   ]
  }
 ],
 "metadata": {
  "kernelspec": {
   "display_name": "foodbuddys",
   "language": "python",
   "name": "python3"
  },
  "language_info": {
   "codemirror_mode": {
    "name": "ipython",
    "version": 3
   },
   "file_extension": ".py",
   "mimetype": "text/x-python",
   "name": "python",
   "nbconvert_exporter": "python",
   "pygments_lexer": "ipython3",
   "version": "3.10.6"
  }
 },
 "nbformat": 4,
 "nbformat_minor": 2
}
