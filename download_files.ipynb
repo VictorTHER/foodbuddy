{
 "cells": [
  {
   "cell_type": "code",
   "execution_count": null,
   "metadata": {},
   "outputs": [],
   "source": [
    "# 1. Importer les librairies nécessaires\n",
    "import tensorflow as tf\n",
    "from tensorflow.keras.preprocessing.image import ImageDataGenerator\n",
    "import os\n",
    "import pandas as pd\n",
    "from google.cloud import storage\n",
    "\n",
    "import requests\n",
    "from PIL import Image\n",
    "import numpy as np\n",
    "from io import BytesIO\n",
    "\n",
    "import cv2\n",
    "import numpy as np\n",
    "import requests\n",
    "from io import BytesIO"
   ]
  },
  {
   "cell_type": "code",
   "execution_count": null,
   "metadata": {},
   "outputs": [],
   "source": [
    "# On appelle le dataframe où les noms des fichiers sont stockés\n",
    "df = pd.read_csv('data_train_set.csv')\n",
    "df\n",
    "\n",
    "# EVENTUELLEMENT, filtrer le df afin de ne conserver que ce que l'on souhaite télécharger\n"
   ]
  },
  {
   "cell_type": "code",
   "execution_count": null,
   "metadata": {},
   "outputs": [],
   "source": [
    "# Assignement des folders pour télécharger les images\n",
    "\n",
    "from google.cloud import storage\n",
    "\n",
    "BUCKET_NAME = \"NAME OF THE BUCKET\"\n",
    "REMOTE_PATH = \"NAME OF THE FOLDER\"\n",
    "LOCAL_DIRECTORY = \"NAME OF LOCAL DIRECTORY WHERE FILES ARE DOWNLOADED\""
   ]
  },
  {
   "cell_type": "code",
   "execution_count": null,
   "metadata": {},
   "outputs": [],
   "source": [
    "# On s'assure que le répertoire local existe\n",
    "os.makedirs(LOCAL_DIRECTORY, exist_ok=True)"
   ]
  },
  {
   "cell_type": "code",
   "execution_count": null,
   "metadata": {},
   "outputs": [],
   "source": [
    "# Accès au Gcloud avec credentials que l'on a mis dans .env\n",
    "client = storage.Client()\n",
    "bucket = client.bucket(BUCKET_NAME)"
   ]
  },
  {
   "cell_type": "code",
   "execution_count": null,
   "metadata": {},
   "outputs": [],
   "source": [
    "#Boucle de téléchargement des images\n",
    "for file_name in df['file_name']:\n",
    "    storage_filename = f\"{REMOTE_PATH}{file_name}\"\n",
    "    local_filename = os.path.join(LOCAL_DIRECTORY, file_name)\n",
    "    blob = bucket.blob(storage_filename)\n",
    "    blob.download_to_filename(local_filename)\n",
    "    print(f\"Téléchargé : {file_name}\")"
   ]
  }
 ],
 "metadata": {
  "kernelspec": {
   "display_name": "foodbuddy",
   "language": "python",
   "name": "python3"
  },
  "language_info": {
   "name": "python",
   "version": "3.10.6"
  }
 },
 "nbformat": 4,
 "nbformat_minor": 2
}
